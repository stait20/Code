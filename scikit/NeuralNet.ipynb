{
 "cells": [
  {
   "cell_type": "code",
   "execution_count": 20,
   "metadata": {},
   "outputs": [],
   "source": [
    "import pandas as pd\n",
    "import numpy as np\n",
    "import matplotlib.pyplot as plt\n",
    "import matplotlib.dates as mdates\n",
    "import datetime\n",
    "from sklearn.neural_network import MLPRegressor\n",
    "\n",
    "from sklearn.model_selection import train_test_split\n",
    "from sklearn.metrics import mean_squared_error\n",
    "from math import sqrt\n",
    "from sklearn.metrics import r2_score\n",
    "from sklearn.metrics import mean_absolute_error\n",
    "from sklearn.metrics import mean_absolute_percentage_error\n",
    "from sklearn.feature_selection import VarianceThreshold\n",
    "\n",
    "%matplotlib inline"
   ]
  },
  {
   "cell_type": "code",
   "execution_count": 21,
   "metadata": {},
   "outputs": [],
   "source": [
    "# Read csv file, convert time to datetime data type\n",
    "df = pd.read_csv('flex_networks.csv')\n",
    "df['Timestamp'] = pd.to_datetime(df['Timestamp'], infer_datetime_format=True)"
   ]
  },
  {
   "cell_type": "code",
   "execution_count": 22,
   "metadata": {},
   "outputs": [],
   "source": [
    "# Predictors are DoW and HoD\n",
    "times = df['Timestamp']\n",
    "DoW = []\n",
    "HoD = []\n",
    "MoY = []\n",
    "\n",
    "for x in times:\n",
    "    DoW.append(x.weekday())\n",
    "    HoD.append(x.hour)\n",
    "    MoY.append(x.month)\n",
    "\n",
    "df['DoW'] = DoW\n",
    "df['HoD'] = HoD\n",
    "#df['MoY'] = MoY"
   ]
  },
  {
   "cell_type": "code",
   "execution_count": 23,
   "metadata": {},
   "outputs": [],
   "source": [
    "targetColumns = list(df.columns[1:4]) + list(df.columns[5:19]) + list(df.columns[21:22])\n",
    "for name in targetColumns:\n",
    "    df[name + \"_1day_pers\"] = df[name].shift(48, axis=0)\n",
    "    df[name + \"_7day_pers\"] = df[name].shift(336, axis=0)"
   ]
  },
  {
   "cell_type": "code",
   "execution_count": 24,
   "metadata": {},
   "outputs": [
    {
     "name": "stdout",
     "output_type": "stream",
     "text": [
      "Training model  0\n",
      "Training model  1\n",
      "Training model  2\n",
      "Training model  3\n",
      "Training model  4\n",
      "Training model  5\n",
      "Training model  6\n",
      "Training model  7\n",
      "Training model  8\n",
      "Training model  9\n",
      "Training model  10\n",
      "Training model  11\n",
      "Training model  12\n",
      "Training model  13\n",
      "Training model  14\n",
      "Training model  15\n",
      "Training model  16\n",
      "Training model  17\n"
     ]
    }
   ],
   "source": [
    "predictorsAll = list(df.columns[23:])\n",
    "df[predictorsAll] = df[predictorsAll]/df[predictorsAll].max()\n",
    "\n",
    "mlpAll = []\n",
    "data = np.empty((18,1440))\n",
    "i = 0\n",
    "for name in targetColumns:\n",
    "    predictors = ['DoW', 'HoD', name + \"_7day_pers\", name + \"_1day_pers\", \"Air Temperature\" ] #name + \"_1day_pers\", \"Air Temperature\" , name + \"_7day_pers\"\n",
    "    targetColumn = name\n",
    "\n",
    "    X = np.split(df[predictors].values, [336,7247,8687])\n",
    "    y = np.split(df[targetColumn].values, [336,7247,8687])\n",
    "\n",
    "    X_train = X[1]\n",
    "    X_test = X[2]\n",
    "    y_train = y[1]\n",
    "    y_test = y[2]\n",
    "\n",
    "    print(\"Training model \", i)\n",
    "    mlp = MLPRegressor(hidden_layer_sizes=(5,5,5), activation='relu', solver='adam', max_iter=5000)\n",
    "    mlp.fit(X_train,y_train)\n",
    "    mlpAll.append(mlp)\n",
    "\n",
    "    predict_test = mlp.predict(X_test)\n",
    "    data[i] = predict_test\n",
    "    i += 1\n",
    "\n"
   ]
  },
  {
   "cell_type": "code",
   "execution_count": 25,
   "metadata": {},
   "outputs": [],
   "source": [
    "MAE = []\n",
    "MAPE = []\n",
    "MAPE2 = []\n",
    "\n",
    "error = np.asarray(df[targetColumns].iloc[7247:8687]).T - data\n",
    "\n",
    "for i in range(18):\n",
    "    MAE.append(mean_absolute_error(df[targetColumns[i]].iloc[7247:8687], data[i]))\n",
    "    MAPE.append(mean_absolute_percentage_error(df[targetColumns[i]].iloc[7247:8687], data[i]))\n",
    "\n",
    "    MAPE2.append((100 / (1440)) * sum(abs(error[i] / df[targetColumns[i]].iloc[7247:8687])))\n"
   ]
  },
  {
   "cell_type": "code",
   "execution_count": 26,
   "metadata": {},
   "outputs": [
    {
     "name": "stdout",
     "output_type": "stream",
     "text": [
      "1.2804369820987611\n",
      "1.4954666734978825\n",
      "3.1329061301453294\n",
      "0.42462817721322055\n",
      "0.5416247533829822\n",
      "2.3151175328941256\n",
      "10.24990557881149\n",
      "1.4662783874496634\n",
      "3.8952916733493312\n",
      "2.7745652368023355\n",
      "3.0406774753889954\n",
      "2.396343762071861\n",
      "3.849760726992948\n",
      "1.3461071327411016\n",
      "2.8453707576977707\n",
      "2.947408908208805\n",
      "2.9569224426125356\n",
      "1.9335589708114072\n",
      "\n",
      "\n",
      "0.9726718836694147\n",
      "0.23985814385785617\n",
      "0.16105274738810407\n",
      "0.2473804909165742\n",
      "0.18427707725749734\n",
      "1.2469739231501902\n",
      "5.919111593149141\n",
      "0.2596905225890865\n",
      "0.1997404556890971\n",
      "0.16902126686081165\n",
      "0.6352035777467105\n",
      "0.20866824353940494\n",
      "0.1874085023568913\n",
      "0.15185749517780808\n",
      "0.31695386218030636\n",
      "0.1156072177567855\n",
      "0.19944600973374424\n",
      "12792909789584.373\n"
     ]
    }
   ],
   "source": [
    "for i in range(18):\n",
    "    print(MAE[i])\n",
    "\n",
    "print(\"\\n\")\n",
    "\n",
    "for i in range(18):\n",
    "    print(MAPE[i])\n",
    "    #print(MAPE2[i])"
   ]
  },
  {
   "cell_type": "code",
   "execution_count": null,
   "metadata": {},
   "outputs": [],
   "source": [
    "for name in targetColumns:\n",
    "    predict_test = mlp.predict(X_test)"
   ]
  },
  {
   "cell_type": "code",
   "execution_count": 72,
   "metadata": {},
   "outputs": [],
   "source": [
    "targetColumns = \"crawfordCrescent_F3\"\n",
    "df['crawford_pers_forecast'] = df['crawfordCrescent_F3'].shift(336, axis=0)\n",
    "df['crawford_pers_forecast_1day'] = df['crawfordCrescent_F3'].shift(48, axis=0)\n",
    "predictors = ['DoW', 'HoD', 'crawford_pers_forecast', 'crawford_pers_forecast_1day', 'Air Temperature']\n",
    "df[predictors] = df[predictors]/df[predictors].max()"
   ]
  },
  {
   "cell_type": "code",
   "execution_count": 69,
   "metadata": {},
   "outputs": [
    {
     "name": "stdout",
     "output_type": "stream",
     "text": [
      "(6911, 4)\n",
      "(1440, 4)\n"
     ]
    }
   ],
   "source": [
    "#5759\n",
    "X = np.split(df[predictors].values, [336,7247,8687])\n",
    "y = np.split(df[targetColumns].values, [336,7247,8687])\n",
    "\n",
    "X_train = X[1]\n",
    "X_test = X[2]\n",
    "y_train = y[1]\n",
    "y_test = y[2]\n",
    "\n",
    "print(X_train.shape)\n",
    "print(X_test.shape)"
   ]
  },
  {
   "cell_type": "code",
   "execution_count": 70,
   "metadata": {},
   "outputs": [],
   "source": [
    "mlp = MLPRegressor(hidden_layer_sizes=(5,5,5), activation='relu', solver='adam', max_iter=5000)\n",
    "mlp.fit(X_train,y_train)\n",
    "\n",
    "predict_train = mlp.predict(X_train)\n",
    "predict_test = mlp.predict(X_test)"
   ]
  },
  {
   "cell_type": "code",
   "execution_count": 6,
   "metadata": {},
   "outputs": [
    {
     "name": "stdout",
     "output_type": "stream",
     "text": [
      "(18, 1440)\n",
      "(18, 30, 48)\n",
      "shape of arr:  (18, 30, 48)\n",
      "shape of load_original_arr:  (18, 30, 48)\n",
      "Yes, both the arrays are same\n"
     ]
    }
   ],
   "source": [
    "data2 = np.empty((18,30,48))\n",
    "for feeder in range(data2.shape[0]):\n",
    "    for day in range(data2.shape[1]):\n",
    "        for hour in range(data2.shape[2]):\n",
    "            data2[feeder][day][hour] = data[feeder][day*48 + hour]\n",
    "\n",
    "data = np.asarray(data2)\n",
    "#print(data.shape)\n",
    "\n",
    "data_reshaped = data.reshape(data.shape[0], -1)\n",
    "\n",
    "np.savetxt(\"forecastData.txt\", data_reshaped)\n",
    "\n",
    "load_data = np.loadtxt(\"forecastData.txt\")\n",
    "print(load_data.shape)\n",
    "print(data.shape)\n",
    "load_original_arr = load_data.reshape(load_data.shape[0], load_data.shape[1] // data.shape[2], data.shape[2])\n",
    "\n",
    "print(\"shape of arr: \", data.shape)\n",
    "print(\"shape of load_original_arr: \", load_original_arr.shape)\n",
    "\n",
    "if (load_original_arr == data).all():\n",
    "    print(\"Yes, both the arrays are same\")\n",
    "else:\n",
    "    print(\"No, both the arrays are not same\")\n"
   ]
  },
  {
   "cell_type": "code",
   "execution_count": 7,
   "metadata": {},
   "outputs": [],
   "source": [
    "load = df[targetColumns].iloc[7247:8687].values\n",
    "load = np.ravel(load)\n",
    "\n",
    "realLoads = np.empty((18,30,48))\n",
    "for day in range(realLoads.shape[1]):\n",
    "    for hour in range(realLoads.shape[2]):\n",
    "        for feeder in range(realLoads.shape[0]):\n",
    "            realLoads[feeder][day][hour] = load[day*realLoads.shape[0]*realLoads.shape[2] + hour*realLoads.shape[0] + feeder]"
   ]
  },
  {
   "cell_type": "code",
   "execution_count": 8,
   "metadata": {},
   "outputs": [
    {
     "name": "stdout",
     "output_type": "stream",
     "text": [
      "MAE:  1.738829555112753\n",
      "MAPE:  0.31849381139199856\n"
     ]
    }
   ],
   "source": [
    "y_true = df[targetColumns[1]].iloc[7247:8687]\n",
    "x = data[0]\n",
    "y_pred = np.ravel(data[1])\n",
    "print(\"MAE: \", mean_absolute_error(y_true, y_pred))\n",
    "print(\"MAPE: \", mean_absolute_percentage_error(y_true, y_pred))"
   ]
  },
  {
   "cell_type": "code",
   "execution_count": 11,
   "metadata": {},
   "outputs": [],
   "source": [
    "d = 6\n",
    "l = d*48\n",
    "h = d*48 + 1*48\n",
    "\n",
    "# real_data = df[\"crawfordCrescent_F2\"].iloc[7247:8687]\n",
    "# predict_test = predict_test[:,1]\n",
    "#preds = mlp.predict(df[predictors])\n"
   ]
  },
  {
   "cell_type": "code",
   "execution_count": 13,
   "metadata": {},
   "outputs": [
    {
     "data": {
      "image/png": "[encoded data removed]",
      "text/plain": [
       "<Figure size 432x288 with 1 Axes>"
      ]
     },
     "metadata": {
      "needs_background": "light"
     },
     "output_type": "display_data"
    }
   ],
   "source": [
    "fig, ax = plt.subplots()\n",
    "ax.plot(df[\"Timestamp\"].iloc[l:h], data[6][d], label=\"Forecast\")\n",
    "ax.plot(df[\"Timestamp\"].iloc[l:h], df[targetColumns[6]].iloc[d*48:d*48 + 48], label=\"Actual\")\n",
    "# Major ticks every day\n",
    "ax.xaxis.set_major_locator(mdates.DayLocator())\n",
    "ax.grid(True)\n",
    "# Set labels to day number - month name\n",
    "ax.xaxis.set_major_formatter(mdates.DateFormatter('%d-%b'))\n",
    "# Rotates and right-aligns the x labels so they don't crowd each other.\n",
    "for label in ax.get_xticklabels(which='major'):\n",
    "    label.set(rotation=30, horizontalalignment='right')\n",
    "ax.set_ylabel(\"Load (kW)\")\n",
    "ax.set_xlabel(\"Date\")\n",
    "ax.legend()\n",
    "\n",
    "plt.tight_layout()\n",
    "#plt.savefig(\"pers_forecast.jpg\", dpi=300, bbox_inches=\"tight\")\n",
    "plt.show()"
   ]
  },
  {
   "cell_type": "code",
   "execution_count": 69,
   "metadata": {},
   "outputs": [
    {
     "data": {
      "image/png": "[encoded data removed]",
      "text/plain": [
       "<Figure size 432x288 with 1 Axes>"
      ]
     },
     "metadata": {
      "needs_background": "light"
     },
     "output_type": "display_data"
    },
    {
     "data": {
      "image/png": "[encoded data removed]",
      "text/plain": [
       "<Figure size 432x288 with 1 Axes>"
      ]
     },
     "metadata": {
      "needs_background": "light"
     },
     "output_type": "display_data"
    },
    {
     "data": {
      "image/png": "[encoded data removed]",
      "text/plain": [
       "<Figure size 432x288 with 1 Axes>"
      ]
     },
     "metadata": {
      "needs_background": "light"
     },
     "output_type": "display_data"
    }
   ],
   "source": [
    "mean_absolute_error(real_data,predict_test)\n",
    "error = predict_test - real_data\n",
    "box_data =[]\n",
    "\n",
    "for i in range(1,24):\n",
    "    x = error.values[i*2::48]\n",
    "    y = error.values[i*2-1::48]\n",
    "    box_data.append(np.concatenate((x,y)))\n",
    "\n",
    "\n",
    "plt.boxplot(box_data)\n",
    "plt.xlabel(\"Hour of the day\")\n",
    "plt.ylabel(\"Error (kW)\")\n",
    "#plt.savefig(\"boxplot.jpg\", dpi=300)\n",
    "plt.show()\n",
    "\n",
    "plt.scatter(real_data, predict_test,s=10)\n",
    "plt.plot([1,25], [1,25], c=\"r\",ls=\"--\")\n",
    "plt.xlabel(\"Actual (kW)\")\n",
    "plt.ylabel(\"Forecast (kW)\")\n",
    "#plt.savefig(\"linear.jpg\", dpi=300)\n",
    "plt.show()\n",
    "\n",
    "plt.hist(error, bins='auto', edgecolor='black', linewidth=1)\n",
    "plt.xlabel(\"Error (kW)\")\n",
    "plt.ylabel(\"Count\")\n",
    "#plt.savefig(\"hist.jpg\", dpi=300)\n",
    "plt.show()"
   ]
  },
  {
   "cell_type": "code",
   "execution_count": 70,
   "metadata": {},
   "outputs": [],
   "source": [
    "peaksReal = []\n",
    "peaksPred = []\n",
    "dayLoadsReal = []\n",
    "dayLoadsPred = []\n",
    "hourOfPeakReal = []\n",
    "hourOfPeakPred = []\n",
    "\n",
    "n = 48\n",
    "\n",
    "for i in range(0, len(real_data), n):\n",
    "    dayReal = real_data[i:i + n]\n",
    "    dayPred = predict_test[i:i + n]\n",
    "    dayLoadsReal.append(dayReal)\n",
    "    dayLoadsPred.append(dayPred)\n",
    "    peakReal = max(dayReal)\n",
    "    peakPred = max(dayPred)\n",
    "    peaksReal.append(peakReal)\n",
    "    peaksPred.append(peakPred)\n",
    "    hourOfPeakReal.append(dayReal.argmax())\n",
    "    hourOfPeakPred.append(dayPred.argmax())"
   ]
  },
  {
   "cell_type": "code",
   "execution_count": 37,
   "metadata": {},
   "outputs": [
    {
     "data": {
      "image/png": "[encoded data removed]",
      "text/plain": [
       "<Figure size 432x288 with 1 Axes>"
      ]
     },
     "metadata": {
      "needs_background": "light"
     },
     "output_type": "display_data"
    }
   ],
   "source": [
    "count = []\n",
    "\n",
    "for i in range(49):\n",
    "    count.append(hourOfPeakPred.count(i))\n",
    "\n",
    "plt.bar(range(len(count)), count)\n",
    "plt.show()"
   ]
  },
  {
   "cell_type": "code",
   "execution_count": 71,
   "metadata": {},
   "outputs": [
    {
     "data": {
      "image/png": "[encoded data removed]",
      "text/plain": [
       "<Figure size 432x288 with 1 Axes>"
      ]
     },
     "metadata": {
      "needs_background": "light"
     },
     "output_type": "display_data"
    }
   ],
   "source": [
    "plt.scatter(peaksReal, peaksPred,s=10)\n",
    "plt.plot([10,30], [10,30], c=\"r\",ls=\"--\")\n",
    "plt.xlabel(\"Real Time of Peak\")\n",
    "plt.ylabel(\"Predicted Time of Peak\")\n",
    "#plt.savefig(\"linear.jpg\", dpi=300)\n",
    "plt.show()\n"
   ]
  }
 ],
 "metadata": {
  "kernelspec": {
   "display_name": "Python 3",
   "language": "python",
   "name": "python3"
  },
  "language_info": {
   "codemirror_mode": {
    "name": "ipython",
    "version": 3
   },
   "file_extension": ".py",
   "mimetype": "text/x-python",
   "name": "python",
   "nbconvert_exporter": "python",
   "pygments_lexer": "ipython3",
   "version": "3.6.4"
  },
  "orig_nbformat": 4,
  "vscode": {
   "interpreter": {
    "hash": "5312a05d4c1062e7e99dc4a1327331a73c17135ec320657c0e8e8843948bfa85"
   }
  }
 },
 "nbformat": 4,
 "nbformat_minor": 2
}
