{
 "cells": [
  {
   "cell_type": "code",
   "execution_count": 10,
   "metadata": {},
   "outputs": [],
   "source": [
    "import pvlib\n",
    "import pandas as pd\n",
    "import matplotlib.pyplot as plt"
   ]
  },
  {
   "cell_type": "code",
   "execution_count": 11,
   "metadata": {},
   "outputs": [],
   "source": [
    "df = pd.read_csv(\"Fife-data/flex_networks.csv\")\n",
    "df[\"Timestamp\"] = pd.to_datetime(df[\"Timestamp\"], infer_datetime_format=True)"
   ]
  },
  {
   "cell_type": "code",
   "execution_count": 12,
   "metadata": {},
   "outputs": [],
   "source": [
    "Lat = 56.32929195\n",
    "Long = -2.83275604\n",
    "Alt = 43\n",
    "location = (Lat, Long, 'St Andrews', Alt, 'Etc/GMT+0')"
   ]
  },
  {
   "cell_type": "code",
   "execution_count": 13,
   "metadata": {},
   "outputs": [],
   "source": [
    "sandia_modules = pvlib.pvsystem.retrieve_sam('SandiaMod')\n",
    "sapm_inverters = pvlib.pvsystem.retrieve_sam('cecinverter')\n",
    "module = sandia_modules['Canadian_Solar_CS5P_220M___2009_']\n",
    "inverter = sapm_inverters['ABB__MICRO_0_25_I_OUTD_US_208__208V_']\n",
    "temperature_model_parameters = pvlib.temperature.TEMPERATURE_MODEL_PARAMETERS['sapm']['open_rack_glass_glass']"
   ]
  },
  {
   "cell_type": "code",
   "execution_count": 14,
   "metadata": {},
   "outputs": [],
   "source": [
    "latitude, longitude, name, altitude, timezone = location\n",
    "weather = pvlib.iotools.get_pvgis_tmy(latitude, longitude, map_variables=True)[0]\n",
    "weather.index.name = \"utc_time\""
   ]
  },
  {
   "cell_type": "code",
   "execution_count": 15,
   "metadata": {},
   "outputs": [],
   "source": [
    "system = {'module': module, 'inverter': inverter, 'surface_azimuth': 180}\n",
    "\n",
    "energies = {}\n",
    "\n",
    "\n",
    "latitude, longitude, name, altitude, timezone = location\n",
    "system['surface_tilt'] = latitude\n",
    "solpos = pvlib.solarposition.get_solarposition(\n",
    "    time=weather.index,\n",
    "    latitude=latitude,\n",
    "    longitude=longitude,\n",
    "    altitude=altitude,\n",
    "    temperature=weather[\"temp_air\"],\n",
    "    pressure=pvlib.atmosphere.alt2pres(altitude),\n",
    ")\n",
    "\n",
    "dni_extra = pvlib.irradiance.get_extra_radiation(weather.index)\n",
    "airmass = pvlib.atmosphere.get_relative_airmass(solpos['apparent_zenith'])\n",
    "pressure = pvlib.atmosphere.alt2pres(altitude)\n",
    "am_abs = pvlib.atmosphere.get_absolute_airmass(airmass, pressure)\n",
    "\n",
    "aoi = pvlib.irradiance.aoi(\n",
    "    system['surface_tilt'],\n",
    "    system['surface_azimuth'],\n",
    "    solpos[\"apparent_zenith\"],\n",
    "    solpos[\"azimuth\"],\n",
    ")\n",
    "\n",
    "total_irradiance = pvlib.irradiance.get_total_irradiance(\n",
    "    system['surface_tilt'],\n",
    "    system['surface_azimuth'],\n",
    "    solpos['apparent_zenith'],\n",
    "    solpos['azimuth'],\n",
    "    weather['dni'],\n",
    "    weather['ghi'],\n",
    "    weather['dhi'],\n",
    "    dni_extra=dni_extra,\n",
    "    model='haydavies',\n",
    ")\n",
    "\n",
    "cell_temperature = pvlib.temperature.sapm_cell(\n",
    "    total_irradiance['poa_global'],\n",
    "    weather[\"temp_air\"],\n",
    "    weather[\"wind_speed\"],\n",
    "    **temperature_model_parameters,\n",
    ")\n",
    "\n",
    "effective_irradiance = pvlib.pvsystem.sapm_effective_irradiance(\n",
    "    total_irradiance['poa_direct'],\n",
    "    total_irradiance['poa_diffuse'],\n",
    "    am_abs,\n",
    "    aoi,\n",
    "    module,\n",
    ")\n",
    "\n",
    "dc = pvlib.pvsystem.sapm(effective_irradiance, cell_temperature, module)\n",
    "ac = pvlib.inverter.sandia(dc['v_mp'], dc['p_mp'], inverter)\n",
    "\n",
    "annual_energy = ac.sum()\n",
    "\n",
    "energies[name] = annual_energy\n"
   ]
  },
  {
   "cell_type": "code",
   "execution_count": null,
   "metadata": {},
   "outputs": [],
   "source": [
    "plt.plot()"
   ]
  }
 ],
 "metadata": {
  "kernelspec": {
   "display_name": "Python 3",
   "language": "python",
   "name": "python3"
  },
  "language_info": {
   "codemirror_mode": {
    "name": "ipython",
    "version": 3
   },
   "file_extension": ".py",
   "mimetype": "text/x-python",
   "name": "python",
   "nbconvert_exporter": "python",
   "pygments_lexer": "ipython3",
   "version": "3.9.0"
  },
  "orig_nbformat": 4
 },
 "nbformat": 4,
 "nbformat_minor": 2
}
