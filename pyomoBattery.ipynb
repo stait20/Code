{
 "cells": [
  {
   "cell_type": "code",
   "execution_count": 2,
   "metadata": {},
   "outputs": [],
   "source": [
    "import pandas as pd\n",
    "import numpy as np\n",
    "import matplotlib.pyplot as plt\n",
    "from pyomo.environ import *\n",
    "import time\n",
    "import itertools"
   ]
  },
  {
   "cell_type": "code",
   "execution_count": 529,
   "metadata": {},
   "outputs": [],
   "source": [
    "df = pd.read_csv(\"Fife-data/flex_networks.csv\")\n",
    "df[\"Timestamp\"] = pd.to_datetime(df[\"Timestamp\"], infer_datetime_format=True)\n",
    "loads = np.asarray(df[\"crawfordCrescent_F2\"])"
   ]
  },
  {
   "cell_type": "code",
   "execution_count": 530,
   "metadata": {},
   "outputs": [],
   "source": [
    "h = 48\n",
    "d = 161\n",
    "\n",
    "rates = pd.read_csv(\"agile_rates_2019.csv\")\n",
    "buyPrice = np.asarray(rates[\"unit_rate_incl_vat\"].iloc[d*h:d*h+h])\n",
    "priceDict = dict(enumerate(buyPrice))"
   ]
  },
  {
   "cell_type": "code",
   "execution_count": 7,
   "metadata": {},
   "outputs": [],
   "source": [
    "load_data = np.loadtxt(\"Final/filterData.txt\")\n",
    "peakLoad = np.max(load_data, axis=1)\n",
    "\n",
    "filter_data = load_data.reshape(load_data.shape[0], load_data.shape[1] // 48, 48)\n"
   ]
  },
  {
   "cell_type": "code",
   "execution_count": 531,
   "metadata": {},
   "outputs": [],
   "source": [
    "class Battery:\n",
    "    def __init__(self, maxSOC, maxChargeRate, maxDischargeRate, chargeEfficiency, dischargeEfficiency):\n",
    "        self.maxSOC = maxSOC\n",
    "        self.maxChargeRate = maxChargeRate\n",
    "        self.maxDischargeRate = maxDischargeRate\n",
    "        self.chargeEfficiency = chargeEfficiency\n",
    "        self.dischargeEfficiency = dischargeEfficiency\n",
    "\n",
    "\n",
    "\n",
    "day = loads[d*h:d*h+h]\n",
    "peakLoad = max(loads)\n",
    "\n",
    "\n",
    "\n",
    "SOC = max(loads)*0.25  # in kWh\n",
    "D = max(loads)*0.25    # in kW\n",
    "C = D/2                # in kW\n",
    "efficiency = 0.95\n",
    "\n",
    "\n",
    "batt = Battery(SOC, C, D, efficiency, efficiency)"
   ]
  },
  {
   "cell_type": "code",
   "execution_count": 532,
   "metadata": {},
   "outputs": [],
   "source": [
    "loadDict = dict(enumerate(day))"
   ]
  },
  {
   "cell_type": "code",
   "execution_count": 533,
   "metadata": {},
   "outputs": [],
   "source": [
    "# Initialise model\n",
    "m = ConcreteModel()\n",
    "\n",
    "# Create time to be used as index\n",
    "m.Time = RangeSet(0, h-1)"
   ]
  },
  {
   "cell_type": "code",
   "execution_count": 534,
   "metadata": {},
   "outputs": [],
   "source": [
    "# Declare Decision variables\n",
    "m.SOC = Var(m.Time, bounds=(0,batt.maxSOC), initialize=0) # State of Charge variable, cant be greater than max SOC\n",
    "m.posDeltaSOC = Var(m.Time, initialize=0) # Change of State of Charge in kWh\n",
    "m.negDeltaSOC = Var(m.Time, initialize=0)\n",
    "m.chargingWatts = Var(m.Time, bounds=(0,batt.maxChargeRate), initialize=0) # Energy in grid, converted to Watts\n",
    "m.dischargingWatts = Var(m.Time, bounds=(0,batt.maxDischargeRate), initialize=0)\n",
    "m.gridImport = Var(m.Time, domain=NonNegativeReals, initialize=loadDict) # Net load from grid\n",
    "\n",
    "\n"
   ]
  },
  {
   "cell_type": "code",
   "execution_count": 535,
   "metadata": {},
   "outputs": [],
   "source": [
    "# Boolean variables, used to determine wether battery is charging or discharging\n",
    "m.Bool_char = Var(m.Time, within=Boolean) # 1 if battery is charging\n",
    "m.Bool_dis = Var(m.Time, within=Boolean, initialize=0) # 1 if battery is discharging\n"
   ]
  },
  {
   "cell_type": "code",
   "execution_count": 536,
   "metadata": {},
   "outputs": [],
   "source": [
    "m.dayLoads = Param(m.Time, initialize=loadDict)\n",
    "m.priceBuy = Param(m.Time, initialize=priceDict)"
   ]
  },
  {
   "cell_type": "code",
   "execution_count": 537,
   "metadata": {},
   "outputs": [],
   "source": [
    "#m.chargeEfficiency = Param(initialize=batt.chargeEfficiency)\n",
    "#m.dischargeEfficiency = Param(initialize=batt.dischargeEfficiency)\n",
    "m.chargingLimit = Param(initialize=batt.maxChargeRate)\n",
    "m.dischargingLimit = Param(initialize=batt.maxDischargeRate)"
   ]
  },
  {
   "cell_type": "code",
   "execution_count": 538,
   "metadata": {},
   "outputs": [],
   "source": [
    "# Constraints\n",
    "# SOC is equal to SOC at previous time plus change in SOC\n",
    "def SOC_rule(m,t):\n",
    "    if t==0:\n",
    "        return(m.SOC[t] == 0)\n",
    "    else:\n",
    "        return(m.SOC[t] == m.SOC[t-1] + m.posDeltaSOC[t] - m.negDeltaSOC[t])\n",
    "m.Batt_SOC = Constraint(m.Time, rule=SOC_rule)"
   ]
  },
  {
   "cell_type": "code",
   "execution_count": 539,
   "metadata": {},
   "outputs": [],
   "source": [
    "def charging_rule(m,t):\n",
    "    return m.chargingWatts[t] <= m.chargingLimit\n",
    "m.charging_rule = Constraint(m.Time, rule=charging_rule)\n",
    "\n",
    "def discharging_rule(m,t):\n",
    "    return m.dischargingWatts[t] <= m.dischargingLimit\n",
    "m.discharging_rule = Constraint(m.Time, rule=discharging_rule)\n",
    "\n",
    "# ensure charging rate obeyed\n",
    "def E_charging_rate_rule(m,t):\n",
    "    return m.posDeltaSOC[t] == m.chargingWatts[t] * 0.5\n",
    "m.chargingLimit_cons = Constraint(m.Time, rule=E_charging_rate_rule)\n",
    "\n",
    "# ensure DIScharging rate obeyed\n",
    "def E_discharging_rate_rule(m,t):\n",
    "    return m.negDeltaSOC[t] == m.dischargingWatts[t] * 0.5\n",
    "m.dischargingLimit_cons = Constraint(m.Time, rule=E_discharging_rate_rule)\n",
    "\n",
    "def demand_rule(m,t):\n",
    "    return m.gridImport[t] == m.dayLoads[t] + m.chargingWatts[t] - m.dischargingWatts[t] \n",
    "m.demand_rule = Constraint(m.Time, rule=demand_rule)"
   ]
  },
  {
   "cell_type": "code",
   "execution_count": 540,
   "metadata": {},
   "outputs": [],
   "source": [
    "# def Bool_char_rule_1(m,t):\n",
    "#     bigM = 500000\n",
    "#     return(m.posDeltaSOC[t] >= -bigM*(m.Bool_char[t]))\n",
    "# m.Batt_char1 = Constraint(m.Time, rule=Bool_char_rule_1)\n",
    "\n",
    "# def Bool_char_rule_2(m,t):\n",
    "#     bigM = 500000\n",
    "#     return(m.posDeltaSOC[t] <= 0+bigM*(1 - m.Bool_dis[t]))\n",
    "# m.Batt_char2 = Constraint(m.Time, rule=Bool_char_rule_2)\n",
    "\n",
    "# def Bool_char_rule_3(m,i):\n",
    "#     bigM = 500000\n",
    "#     return((m.negDeltaSOC[i]) <= bigM*(m.Bool_dis[i]))\n",
    "# m.Batt_cd3 = Constraint(m.Time,rule=Bool_char_rule_3)\n",
    "\n",
    "# def Bool_char_rule_4(m,i):\n",
    "#     bigM=500000\n",
    "#     return((m.negDeltaSOC[i]) >= 0-bigM*(1-m.Bool_char[i]))\n",
    "# m.Batt_cd4 = Constraint(m.Time,rule=Bool_char_rule_4)\n",
    "\n",
    "# def Bool_char_dis(m,t):\n",
    "#     return(m.Bool_char[t] + m.Bool_dis[t], 1)\n",
    "# m.Batt_char_dis = Constraint(m.Time, rule=Bool_char_dis)"
   ]
  },
  {
   "cell_type": "code",
   "execution_count": 541,
   "metadata": {},
   "outputs": [],
   "source": [
    "def pos_or_neg_charge(m,t):\n",
    "    return(m.chargingWatts[t] * m.dischargingWatts[t] == 0)\n",
    "m.pos_or_neg = Constraint(m.Time, rule=pos_or_neg_charge)"
   ]
  },
  {
   "cell_type": "code",
   "execution_count": 542,
   "metadata": {},
   "outputs": [],
   "source": [
    "# # Account for charging efficiency\n",
    "# def pos_E_in_rule(m,t):\n",
    "#     return m.chargingWatts[t] == m.posDeltaSOC[t]/m.chargeEfficiency\n",
    "# m.posEIn_cons = Constraint(m.Time, rule=pos_E_in_rule)\n",
    "\n",
    "# # Account for discharging efficiency\n",
    "# def neg_E_out_rule(m,t):\n",
    "#     return m.dischargingWatts[t] == m.negDeltaSOC[t]*m.dischargeEfficiency\n",
    "# m.negEOut_cons = Constraint(m.Time, rule=neg_E_out_rule)"
   ]
  },
  {
   "cell_type": "code",
   "execution_count": 543,
   "metadata": {},
   "outputs": [],
   "source": [
    "# m.is_max = Var(m.Time, within=Boolean)\n",
    "# m.maxLoad = Var(m.Time, within=NonNegativeReals) # Stores max load value\n",
    "\n",
    "# def only_one_max(m,t):\n",
    "#     return sum(m.is_max[i] for i in m.Time) == 1\n",
    "# m.only_one_max = Constraint(m.Time, rule=only_one_max)\n",
    "\n",
    "# # Forces maxLoad to be 0 if is_max is 0\n",
    "# def limit_max(m,t):\n",
    "#     bigM = 5000\n",
    "#     return m.maxLoad[t] <= bigM * m.is_max[t]\n",
    "# m.limit_max = Constraint(m.Time, rule=limit_max)\n",
    "\n",
    "# def find_max(m,t):\n",
    "#     bigM = 5000\n",
    "#     return m.maxLoad[t] + bigM*(1 - m.is_max[t]) >= (m.maxLoad[i] for i in m.Time)"
   ]
  },
  {
   "cell_type": "code",
   "execution_count": 544,
   "metadata": {},
   "outputs": [],
   "source": [
    "m.maxLoad = Var(within=NonNegativeReals)\n",
    "\n",
    "\n",
    "def Peak_Rule(m, t):\n",
    "    return m.maxLoad >= m.gridImport[t]\n",
    "\n",
    "m.Bound_Peak = Constraint(m.Time,rule=Peak_Rule)"
   ]
  },
  {
   "cell_type": "code",
   "execution_count": 545,
   "metadata": {},
   "outputs": [],
   "source": [
    "# def is_max(m,t):\n",
    "#     return m.maxLoad >= m.netLoad[t]\n",
    "# m.is_max = Constraint(m.Time, rule=is_max)\n",
    " "
   ]
  },
  {
   "cell_type": "code",
   "execution_count": 546,
   "metadata": {},
   "outputs": [],
   "source": [
    "# Objective function is max of loads in the day\n",
    "def Obj_func(m):\n",
    "    return m.maxLoad\n",
    "m.max_load = Objective(rule=Obj_func, sense=minimize)"
   ]
  },
  {
   "cell_type": "code",
   "execution_count": 547,
   "metadata": {},
   "outputs": [],
   "source": [
    "opt = SolverFactory(\"gurobi\")\n",
    "opt.options['NonConvex'] = 2"
   ]
  },
  {
   "cell_type": "code",
   "execution_count": 548,
   "metadata": {},
   "outputs": [
    {
     "name": "stdout",
     "output_type": "stream",
     "text": [
      "Time elapsed: 0.21399903297424316\n"
     ]
    }
   ],
   "source": [
    "t = time.time()\n",
    "results = opt.solve(m)\n",
    "elapsed = time.time() - t\n",
    "print ('Time elapsed:', elapsed)"
   ]
  },
  {
   "cell_type": "code",
   "execution_count": 549,
   "metadata": {},
   "outputs": [
    {
     "name": "stdout",
     "output_type": "stream",
     "text": [
      "0 SOC\n",
      "1 posDeltaSOC\n",
      "2 negDeltaSOC\n",
      "3 chargingWatts\n",
      "4 dischargingWatts\n",
      "5 gridImport\n",
      "6 Bool_char\n",
      "7 Bool_dis\n",
      "8 maxLoad\n"
     ]
    }
   ],
   "source": [
    "j = 0\n",
    "for v in m.component_objects(Var, active=True):\n",
    "    print (j, v.getname())\n",
    "    j+=1"
   ]
  },
  {
   "cell_type": "code",
   "execution_count": 550,
   "metadata": {},
   "outputs": [],
   "source": [
    "outputVars = np.zeros((10,len(day)))"
   ]
  },
  {
   "cell_type": "code",
   "execution_count": 551,
   "metadata": {},
   "outputs": [
    {
     "name": "stdout",
     "output_type": "stream",
     "text": [
      "SOC\n",
      "posDeltaSOC\n",
      "negDeltaSOC\n",
      "chargingWatts\n",
      "dischargingWatts\n",
      "gridImport\n",
      "Bool_char\n",
      "Bool_dis\n",
      "maxLoad\n"
     ]
    }
   ],
   "source": [
    "j = 0\n",
    "for v in m.component_objects(Var, active=True):\n",
    "    print (v.getname())\n",
    "    #print varobject.get_values()\n",
    "    varobject = getattr(m, str(v))\n",
    "    for index in varobject:\n",
    "        outputVars[j,index] = varobject[index].value\n",
    "    j+=1\n",
    "    if j>=10:\n",
    "        break\n"
   ]
  },
  {
   "cell_type": "code",
   "execution_count": 552,
   "metadata": {},
   "outputs": [
    {
     "data": {
      "text/plain": [
       "<bound method Figure.show of <Figure size 1080x576 with 2 Axes>>"
      ]
     },
     "execution_count": 552,
     "metadata": {},
     "output_type": "execute_result"
    },
    {
     "data": {
      "image/png": "[encoded data removed]",
      "text/plain": [
       "<Figure size 1080x576 with 2 Axes>"
      ]
     },
     "metadata": {
      "needs_background": "light"
     },
     "output_type": "display_data"
    }
   ],
   "source": [
    "newLoad = outputVars[5]\n",
    "SOC = outputVars[0]\n",
    "chargeRate = outputVars[1] - outputVars[2]\n",
    "maxSOC = np.ones(48) * batt.maxSOC\n",
    "\n",
    "y = list(range(48))\n",
    "fig, axs = plt.subplots(2)\n",
    "axs[0].step(y,day, label=\"no battery\")\n",
    "axs[0].step(y,newLoad, label=\"battery\")\n",
    "axs[0].legend()\n",
    "axs[0].set_ylabel(\"kW\")\n",
    "\n",
    "axs[1].step(y,chargeRate, label=\"charge rate\")\n",
    "axs[1].step(y,SOC,label=\"SOC\")\n",
    "axs[1].plot(y,maxSOC, label=\"max SOC\", linestyle=\"dashed\")\n",
    "axs[1].legend()\n",
    "axs[1].set_ylabel(\"kWh\")\n",
    "\n",
    "\n",
    "fig.set_figheight(8)\n",
    "fig.set_figwidth(15)\n",
    "fig.show"
   ]
  },
  {
   "cell_type": "code",
   "execution_count": 553,
   "metadata": {},
   "outputs": [
    {
     "name": "stdout",
     "output_type": "stream",
     "text": [
      "4284.635604899999\n",
      "4263.77656812784\n"
     ]
    }
   ],
   "source": [
    "\n",
    "# sumPre = 0\n",
    "# for i in range(48):\n",
    "#     sumPre += buyPrice[i]*day[i]\n",
    "\n",
    "#sumPre\n",
    "print(sum(buyPrice[i]*day[i] for i in range(48)))\n",
    "\n",
    "print(sum(buyPrice[i]*newLoad[i] for i in range(48)))"
   ]
  },
  {
   "cell_type": "code",
   "execution_count": 554,
   "metadata": {},
   "outputs": [
    {
     "ename": "TypeError",
     "evalue": "object of type 'method' has no len()",
     "output_type": "error",
     "traceback": [
      "\u001b[1;31m---------------------------------------------------------------------------\u001b[0m",
      "\u001b[1;31mTypeError\u001b[0m                                 Traceback (most recent call last)",
      "\u001b[1;32mc:\\SSRBS\\SSRBS\\pyomoBattery.ipynb Cell 27\u001b[0m in \u001b[0;36m<cell line: 1>\u001b[1;34m()\u001b[0m\n\u001b[1;32m----> <a href='vscode-notebook-cell:/c%3A/SSRBS/SSRBS/pyomoBattery.ipynb#X41sZmlsZQ%3D%3D?line=0'>1</a>\u001b[0m \u001b[39mlen\u001b[39;49m(m\u001b[39m.\u001b[39;49mcomponent_objects)\n",
      "\u001b[1;31mTypeError\u001b[0m: object of type 'method' has no len()"
     ]
    }
   ],
   "source": [
    "len(m.component_objects)"
   ]
  }
 ],
 "metadata": {
  "kernelspec": {
   "display_name": "Python 3",
   "language": "python",
   "name": "python3"
  },
  "language_info": {
   "codemirror_mode": {
    "name": "ipython",
    "version": 3
   },
   "file_extension": ".py",
   "mimetype": "text/x-python",
   "name": "python",
   "nbconvert_exporter": "python",
   "pygments_lexer": "ipython3",
   "version": "3.6.4"
  },
  "orig_nbformat": 4,
  "vscode": {
   "interpreter": {
    "hash": "b41597d6e29515954066c6dd3728c79f96e839b94db214e7637b14c7b57363e9"
   }
  }
 },
 "nbformat": 4,
 "nbformat_minor": 2
}
