{
 "cells": [
  {
   "cell_type": "code",
   "execution_count": 71,
   "metadata": {},
   "outputs": [],
   "source": [
    "import pandas as pd\n",
    "import numpy as np\n",
    "import matplotlib.pyplot as plt\n",
    "from pyomo.environ import *\n",
    "import time"
   ]
  },
  {
   "cell_type": "code",
   "execution_count": 72,
   "metadata": {},
   "outputs": [],
   "source": [
    "df = pd.read_csv(\"Fife-data/flex_networks.csv\")\n",
    "df[\"Timestamp\"] = pd.to_datetime(df[\"Timestamp\"], infer_datetime_format=True)\n",
    "loads = np.asarray(df[\"crawfordCrescent_F2\"])"
   ]
  },
  {
   "cell_type": "code",
   "execution_count": 73,
   "metadata": {},
   "outputs": [],
   "source": [
    "class Battery:\n",
    "    def __init__(self, maxSOC, maxChargeRate, maxDischargeRate, chargeEfficiency, dischargeEfficiency):\n",
    "        self.maxSOC = maxSOC\n",
    "        self.maxChargeRate = maxChargeRate\n",
    "        self.maxDischargeRate = maxDischargeRate\n",
    "        self.chargeEfficiency = chargeEfficiency\n",
    "        self.dischargeEfficiency = dischargeEfficiency\n",
    "\n",
    "\n",
    "h = 48\n",
    "d = 161\n",
    "day = loads[d*h:d*h+h]\n",
    "peakLoad = max(loads)\n",
    "\n",
    "SOC = max(loads)*0.25\n",
    "D = max(loads)*0.25\n",
    "C = D/2\n",
    "efficiency = 0.95\n",
    "\n",
    "\n",
    "batt = Battery(SOC, C, D, efficiency, efficiency)"
   ]
  },
  {
   "cell_type": "code",
   "execution_count": 74,
   "metadata": {},
   "outputs": [],
   "source": [
    "loadDict = dict(enumerate(day))"
   ]
  },
  {
   "cell_type": "code",
   "execution_count": 75,
   "metadata": {},
   "outputs": [],
   "source": [
    "# Initialise model\n",
    "m = ConcreteModel()\n",
    "\n",
    "# Create time to be used as index\n",
    "m.Time = RangeSet(0, h-1)"
   ]
  },
  {
   "cell_type": "code",
   "execution_count": 76,
   "metadata": {},
   "outputs": [],
   "source": [
    "# Declare Decision variables\n",
    "m.SOC = Var(m.Time, bounds=(0,batt.maxSOC), initialize=0) # State of Charge variable, cant be greater than max SOC\n",
    "m.posDeltaSOC = Var(m.Time, initialize=0) # Change of State of Charge\n",
    "m.negDeltaSOC = Var(m.Time, initialize=0)\n",
    "m.posEtoBatt = Var(m.Time, bounds=(0,batt.maxChargeRate*(30/60)), initialize=0) # Energy in grid, converted to Watts\n",
    "m.negEfromBatt = Var(m.Time, bounds=(0,batt.maxDischargeRate*(30/60)), initialize=0)\n",
    "m.netLoad = Var(m.Time, initialize=loadDict) # Net load from grid\n",
    "\n",
    "\n"
   ]
  },
  {
   "cell_type": "code",
   "execution_count": 77,
   "metadata": {},
   "outputs": [],
   "source": [
    "# Boolean variables, used to determine wether battery is charging or discharging\n",
    "m.Bool_char = Var(m.Time, within=Boolean) # 1 if battery is charging\n",
    "m.Bool_dis= Var(m.Time, within=Boolean, initialize=0) # 1 if battery is discharging"
   ]
  },
  {
   "cell_type": "code",
   "execution_count": 78,
   "metadata": {},
   "outputs": [],
   "source": [
    "m.dayLoads = Param(m.Time, initialize=loadDict)"
   ]
  },
  {
   "cell_type": "code",
   "execution_count": 79,
   "metadata": {},
   "outputs": [],
   "source": [
    "m.chargeEfficiency = Param(initialize=batt.chargeEfficiency)\n",
    "m.dischargeEfficiency = Param(initialize=batt.dischargeEfficiency)\n",
    "m.chargingLimit = Param(initialize=batt.maxChargeRate*(30/60))\n",
    "m.dischargingLimit = Param(initialize=batt.maxDischargeRate*(30/60))"
   ]
  },
  {
   "cell_type": "code",
   "execution_count": 80,
   "metadata": {},
   "outputs": [
    {
     "name": "stdout",
     "output_type": "stream",
     "text": [
      "ERROR: Rule failed when generating expression for Objective max_load with\n",
      "    index None: PyomoException: Cannot convert non-constant Pyomo expression\n",
      "    (netLoad[0]  <  netLoad[1]) to bool. This error is usually caused by using\n",
      "    a Var, unit, or mutable Param in a Boolean context such as an \"if\"\n",
      "    statement, or when checking container membership or equality. For example,\n",
      "        >>> m.x = Var() >>> if m.x >= 1: ...     pass\n",
      "    and\n",
      "        >>> m.y = Var() >>> if m.y in [m.x, m.y]: ...     pass\n",
      "    would both cause this exception.\n",
      "ERROR: Constructing component 'max_load' from data=None failed:\n",
      "    PyomoException: Cannot convert non-constant Pyomo expression (netLoad[0]\n",
      "    <  netLoad[1]) to bool. This error is usually caused by using a Var, unit,\n",
      "    or mutable Param in a Boolean context such as an \"if\" statement, or when\n",
      "    checking container membership or equality. For example,\n",
      "        >>> m.x = Var() >>> if m.x >= 1: ...     pass\n",
      "    and\n",
      "        >>> m.y = Var() >>> if m.y in [m.x, m.y]: ...     pass\n",
      "    would both cause this exception.\n"
     ]
    },
    {
     "ename": "PyomoException",
     "evalue": "Cannot convert non-constant Pyomo expression (netLoad[0]  <  netLoad[1]) to bool.\nThis error is usually caused by using a Var, unit, or mutable Param in a\nBoolean context such as an \"if\" statement, or when checking container\nmembership or equality. For example,\n    >>> m.x = Var()\n    >>> if m.x >= 1:\n    ...     pass\nand\n    >>> m.y = Var()\n    >>> if m.y in [m.x, m.y]:\n    ...     pass\nwould both cause this exception.",
     "output_type": "error",
     "traceback": [
      "\u001b[1;31m---------------------------------------------------------------------------\u001b[0m",
      "\u001b[1;31mPyomoException\u001b[0m                            Traceback (most recent call last)",
      "\u001b[1;32m<ipython-input-80-a8fc7851c376>\u001b[0m in \u001b[0;36m<module>\u001b[1;34m\u001b[0m\n\u001b[0;32m      2\u001b[0m \u001b[1;32mdef\u001b[0m \u001b[0mObj_func\u001b[0m\u001b[1;33m(\u001b[0m\u001b[0mm\u001b[0m\u001b[1;33m)\u001b[0m\u001b[1;33m:\u001b[0m\u001b[1;33m\u001b[0m\u001b[0m\n\u001b[0;32m      3\u001b[0m     \u001b[1;32mreturn\u001b[0m \u001b[0mmax\u001b[0m\u001b[1;33m(\u001b[0m\u001b[0mlist\u001b[0m\u001b[1;33m(\u001b[0m\u001b[0mm\u001b[0m\u001b[1;33m.\u001b[0m\u001b[0mnetLoad\u001b[0m\u001b[1;33m.\u001b[0m\u001b[0mvalues\u001b[0m\u001b[1;33m(\u001b[0m\u001b[1;33m)\u001b[0m\u001b[1;33m)\u001b[0m\u001b[1;33m)\u001b[0m\u001b[1;33m\u001b[0m\u001b[0m\n\u001b[1;32m----> 4\u001b[1;33m \u001b[0mm\u001b[0m\u001b[1;33m.\u001b[0m\u001b[0mmax_load\u001b[0m \u001b[1;33m=\u001b[0m \u001b[0mObjective\u001b[0m\u001b[1;33m(\u001b[0m\u001b[0mrule\u001b[0m\u001b[1;33m=\u001b[0m\u001b[0mObj_func\u001b[0m\u001b[1;33m,\u001b[0m \u001b[0msense\u001b[0m\u001b[1;33m=\u001b[0m\u001b[0mminimize\u001b[0m\u001b[1;33m)\u001b[0m\u001b[1;33m\u001b[0m\u001b[0m\n\u001b[0m",
      "\u001b[1;32md:\\Programs\\Python\\lib\\site-packages\\pyomo\\core\\base\\block.py\u001b[0m in \u001b[0;36m__setattr__\u001b[1;34m(self, name, val)\u001b[0m\n\u001b[0;32m    540\u001b[0m                 \u001b[1;31m# Pyomo components are added with the add_component method.\u001b[0m\u001b[1;33m\u001b[0m\u001b[1;33m\u001b[0m\u001b[0m\n\u001b[0;32m    541\u001b[0m                 \u001b[1;31m#\u001b[0m\u001b[1;33m\u001b[0m\u001b[1;33m\u001b[0m\u001b[0m\n\u001b[1;32m--> 542\u001b[1;33m                 \u001b[0mself\u001b[0m\u001b[1;33m.\u001b[0m\u001b[0madd_component\u001b[0m\u001b[1;33m(\u001b[0m\u001b[0mname\u001b[0m\u001b[1;33m,\u001b[0m \u001b[0mval\u001b[0m\u001b[1;33m)\u001b[0m\u001b[1;33m\u001b[0m\u001b[0m\n\u001b[0m\u001b[0;32m    543\u001b[0m             \u001b[1;32melse\u001b[0m\u001b[1;33m:\u001b[0m\u001b[1;33m\u001b[0m\u001b[0m\n\u001b[0;32m    544\u001b[0m                 \u001b[1;31m#\u001b[0m\u001b[1;33m\u001b[0m\u001b[1;33m\u001b[0m\u001b[0m\n",
      "\u001b[1;32md:\\Programs\\Python\\lib\\site-packages\\pyomo\\core\\base\\block.py\u001b[0m in \u001b[0;36madd_component\u001b[1;34m(self, name, val)\u001b[0m\n\u001b[0;32m   1085\u001b[0m                              _blockName, str(data))\n\u001b[0;32m   1086\u001b[0m             \u001b[1;32mtry\u001b[0m\u001b[1;33m:\u001b[0m\u001b[1;33m\u001b[0m\u001b[0m\n\u001b[1;32m-> 1087\u001b[1;33m                 \u001b[0mval\u001b[0m\u001b[1;33m.\u001b[0m\u001b[0mconstruct\u001b[0m\u001b[1;33m(\u001b[0m\u001b[0mdata\u001b[0m\u001b[1;33m)\u001b[0m\u001b[1;33m\u001b[0m\u001b[0m\n\u001b[0m\u001b[0;32m   1088\u001b[0m             \u001b[1;32mexcept\u001b[0m\u001b[1;33m:\u001b[0m\u001b[1;33m\u001b[0m\u001b[0m\n\u001b[0;32m   1089\u001b[0m                 \u001b[0merr\u001b[0m \u001b[1;33m=\u001b[0m \u001b[0msys\u001b[0m\u001b[1;33m.\u001b[0m\u001b[0mexc_info\u001b[0m\u001b[1;33m(\u001b[0m\u001b[1;33m)\u001b[0m\u001b[1;33m[\u001b[0m\u001b[1;36m1\u001b[0m\u001b[1;33m]\u001b[0m\u001b[1;33m\u001b[0m\u001b[0m\n",
      "\u001b[1;32md:\\Programs\\Python\\lib\\site-packages\\pyomo\\core\\base\\objective.py\u001b[0m in \u001b[0;36mconstruct\u001b[1;34m(self, data)\u001b[0m\n\u001b[0;32m    330\u001b[0m                 \u001b[1;32mfor\u001b[0m \u001b[0mindex\u001b[0m \u001b[1;32min\u001b[0m \u001b[0mself\u001b[0m\u001b[1;33m.\u001b[0m\u001b[0mindex_set\u001b[0m\u001b[1;33m(\u001b[0m\u001b[1;33m)\u001b[0m\u001b[1;33m:\u001b[0m\u001b[1;33m\u001b[0m\u001b[0m\n\u001b[0;32m    331\u001b[0m                     ans = self._setitem_when_not_present(\n\u001b[1;32m--> 332\u001b[1;33m                         index, rule(block, index))\n\u001b[0m\u001b[0;32m    333\u001b[0m                     \u001b[1;32mif\u001b[0m \u001b[0mans\u001b[0m \u001b[1;32mis\u001b[0m \u001b[1;32mnot\u001b[0m \u001b[1;32mNone\u001b[0m\u001b[1;33m:\u001b[0m\u001b[1;33m\u001b[0m\u001b[0m\n\u001b[0;32m    334\u001b[0m                         \u001b[0mans\u001b[0m\u001b[1;33m.\u001b[0m\u001b[0mset_sense\u001b[0m\u001b[1;33m(\u001b[0m\u001b[0mself\u001b[0m\u001b[1;33m.\u001b[0m\u001b[0m_init_sense\u001b[0m\u001b[1;33m(\u001b[0m\u001b[0mblock\u001b[0m\u001b[1;33m,\u001b[0m \u001b[0mindex\u001b[0m\u001b[1;33m)\u001b[0m\u001b[1;33m)\u001b[0m\u001b[1;33m\u001b[0m\u001b[0m\n",
      "\u001b[1;32md:\\Programs\\Python\\lib\\site-packages\\pyomo\\core\\base\\initializer.py\u001b[0m in \u001b[0;36m__call__\u001b[1;34m(self, parent, idx)\u001b[0m\n\u001b[0;32m    370\u001b[0m \u001b[1;33m\u001b[0m\u001b[0m\n\u001b[0;32m    371\u001b[0m     \u001b[1;32mdef\u001b[0m \u001b[0m__call__\u001b[0m\u001b[1;33m(\u001b[0m\u001b[0mself\u001b[0m\u001b[1;33m,\u001b[0m \u001b[0mparent\u001b[0m\u001b[1;33m,\u001b[0m \u001b[0midx\u001b[0m\u001b[1;33m)\u001b[0m\u001b[1;33m:\u001b[0m\u001b[1;33m\u001b[0m\u001b[0m\n\u001b[1;32m--> 372\u001b[1;33m         \u001b[1;32mreturn\u001b[0m \u001b[0mself\u001b[0m\u001b[1;33m.\u001b[0m\u001b[0m_fcn\u001b[0m\u001b[1;33m(\u001b[0m\u001b[0mparent\u001b[0m\u001b[1;33m)\u001b[0m\u001b[1;33m\u001b[0m\u001b[0m\n\u001b[0m\u001b[0;32m    373\u001b[0m \u001b[1;33m\u001b[0m\u001b[0m\n\u001b[0;32m    374\u001b[0m     \u001b[1;32mdef\u001b[0m \u001b[0mconstant\u001b[0m\u001b[1;33m(\u001b[0m\u001b[0mself\u001b[0m\u001b[1;33m)\u001b[0m\u001b[1;33m:\u001b[0m\u001b[1;33m\u001b[0m\u001b[0m\n",
      "\u001b[1;32m<ipython-input-80-a8fc7851c376>\u001b[0m in \u001b[0;36mObj_func\u001b[1;34m(m)\u001b[0m\n\u001b[0;32m      1\u001b[0m \u001b[1;31m# Objective function is max of loads in the day\u001b[0m\u001b[1;33m\u001b[0m\u001b[1;33m\u001b[0m\u001b[0m\n\u001b[0;32m      2\u001b[0m \u001b[1;32mdef\u001b[0m \u001b[0mObj_func\u001b[0m\u001b[1;33m(\u001b[0m\u001b[0mm\u001b[0m\u001b[1;33m)\u001b[0m\u001b[1;33m:\u001b[0m\u001b[1;33m\u001b[0m\u001b[0m\n\u001b[1;32m----> 3\u001b[1;33m     \u001b[1;32mreturn\u001b[0m \u001b[0mmax\u001b[0m\u001b[1;33m(\u001b[0m\u001b[0mlist\u001b[0m\u001b[1;33m(\u001b[0m\u001b[0mm\u001b[0m\u001b[1;33m.\u001b[0m\u001b[0mnetLoad\u001b[0m\u001b[1;33m.\u001b[0m\u001b[0mvalues\u001b[0m\u001b[1;33m(\u001b[0m\u001b[1;33m)\u001b[0m\u001b[1;33m)\u001b[0m\u001b[1;33m)\u001b[0m\u001b[1;33m\u001b[0m\u001b[0m\n\u001b[0m\u001b[0;32m      4\u001b[0m \u001b[0mm\u001b[0m\u001b[1;33m.\u001b[0m\u001b[0mmax_load\u001b[0m \u001b[1;33m=\u001b[0m \u001b[0mObjective\u001b[0m\u001b[1;33m(\u001b[0m\u001b[0mrule\u001b[0m\u001b[1;33m=\u001b[0m\u001b[0mObj_func\u001b[0m\u001b[1;33m,\u001b[0m \u001b[0msense\u001b[0m\u001b[1;33m=\u001b[0m\u001b[0mminimize\u001b[0m\u001b[1;33m)\u001b[0m\u001b[1;33m\u001b[0m\u001b[0m\n",
      "\u001b[1;32mpyomo\\core\\expr\\logical_expr.pyx\u001b[0m in \u001b[0;36mpyomo.core.expr.logical_expr.InequalityExpression.__bool__\u001b[1;34m()\u001b[0m\n",
      "\u001b[1;31mPyomoException\u001b[0m: Cannot convert non-constant Pyomo expression (netLoad[0]  <  netLoad[1]) to bool.\nThis error is usually caused by using a Var, unit, or mutable Param in a\nBoolean context such as an \"if\" statement, or when checking container\nmembership or equality. For example,\n    >>> m.x = Var()\n    >>> if m.x >= 1:\n    ...     pass\nand\n    >>> m.y = Var()\n    >>> if m.y in [m.x, m.y]:\n    ...     pass\nwould both cause this exception."
     ]
    }
   ],
   "source": [
    "# Objective function is max of loads in the day\n",
    "def Obj_func(m):\n",
    "    return max(list(m.netLoad.values()))\n",
    "m.max_load = Objective(rule=Obj_func, sense=minimize)"
   ]
  },
  {
   "cell_type": "code",
   "execution_count": null,
   "metadata": {},
   "outputs": [],
   "source": [
    "# Constraints\n",
    "# SOC is equal to SOC at previous time plus change in SOC\n",
    "def SOC_rule(m,t):\n",
    "    if t==0:\n",
    "        return(m.SOC[t] == m.posDeltaSOC[t] + m.negDeltaSOC[t])\n",
    "    else:\n",
    "        return(m.SOC[t] == m.SOC[t-1] + m.posDeltaSOC[t] + m.negDeltaSOC[t])\n",
    "m.Batt_SOC = Constraint(m.Time, rule=SOC_rule)"
   ]
  },
  {
   "cell_type": "code",
   "execution_count": null,
   "metadata": {},
   "outputs": [],
   "source": [
    "def Bool_char_rule_1(m,t):\n",
    "    bigM = 500000\n",
    "    return(m.posDeltaSOC[t] >= -bigM*(m.Bool_char[t]))\n",
    "m.Batt_char1 = Constraint(m.Time, rule=Bool_char_rule_1)\n",
    "\n",
    "def Bool_char_rule_2(m,t):\n",
    "    bigM = 500000\n",
    "    return(m.posDeltaSOC[t] <= 0+bigM*(1 - m.Bool_dis[t]))\n",
    "m.Batt_char2 = Constraint(m.Time, rule=Bool_char_rule_2)\n",
    "\n",
    "def Bool_char_rule_3(m,i):\n",
    "    bigM = 500000\n",
    "    return((m.negDeltaSOC[i]) <= bigM*(m.Bool_dis[i]))\n",
    "m.Batt_cd3 = Constraint(m.Time,rule=Bool_char_rule_3)\n",
    "\n",
    "def Bool_char_rule_4(m,i):\n",
    "    bigM=500000\n",
    "    return((m.negDeltaSOC[i]) >= 0-bigM*(1-m.Bool_char[i]))\n",
    "m.Batt_cd4 = Constraint(m.Time,rule=Bool_char_rule_4)\n",
    "\n",
    "def Bool_char_dis(m,t):\n",
    "    return(m.Bool_char[t] + m.Bool_dis[t], 1)\n",
    "m.Batt_char_dis = Constraint(m.Time, rule=Bool_char_dis)"
   ]
  },
  {
   "cell_type": "code",
   "execution_count": null,
   "metadata": {},
   "outputs": [
    {
     "name": "stdout",
     "output_type": "stream",
     "text": [
      "WARNING: Implicitly replacing the Component attribute posEIn_cons (type=<class\n",
      "    'pyomo.core.base.constraint.IndexedConstraint'>) on block unknown with a\n",
      "    new Component (type=<class\n",
      "    'pyomo.core.base.constraint.IndexedConstraint'>). This is usually\n",
      "    indicative of a modelling error. To avoid this warning, use\n",
      "    block.del_component() and block.add_component().\n",
      "WARNING: Implicitly replacing the Component attribute negEOut_cons\n",
      "    (type=<class 'pyomo.core.base.constraint.IndexedConstraint'>) on block\n",
      "    unknown with a new Component (type=<class\n",
      "    'pyomo.core.base.constraint.IndexedConstraint'>). This is usually\n",
      "    indicative of a modelling error. To avoid this warning, use\n",
      "    block.del_component() and block.add_component().\n"
     ]
    }
   ],
   "source": [
    "# Account for charging efficiency\n",
    "def pos_E_in_rule(m,t):\n",
    "    return m.posEtoBatt[t] == m.posDeltaSOC[t]/m.chargeEfficiency\n",
    "m.posEIn_cons = Constraint(m.Time, rule=pos_E_in_rule)\n",
    "\n",
    "# Account for discharging efficiency\n",
    "def neg_E_out_rule(m,t):\n",
    "    return m.negEfromBatt[t] == m.negDeltaSOC[t]*m.dischargeEfficiency\n",
    "m.negEOut_cons = Constraint(m.Time, rule=neg_E_out_rule)"
   ]
  },
  {
   "cell_type": "code",
   "execution_count": null,
   "metadata": {},
   "outputs": [],
   "source": [
    "# ensure charging rate obeyed\n",
    "def E_charging_rate_rule(m,t):\n",
    "    return m.posEtoBatt[t] <= m.chargingLimit\n",
    "m.chargingLimit_cons = Constraint(m.Time, rule=E_charging_rate_rule)\n",
    "\n",
    "# ensure DIScharging rate obeyed\n",
    "def E_discharging_rate_rule(m,t):\n",
    "    return m.negEfromBatt[t] >= m.dischargingLimit\n",
    "m.dischargingLimit_cons = Constraint(m.Time, rule=E_discharging_rate_rule)"
   ]
  },
  {
   "cell_type": "code",
   "execution_count": null,
   "metadata": {},
   "outputs": [
    {
     "name": "stdout",
     "output_type": "stream",
     "text": [
      "WARNING: Implicitly replacing the Component attribute E_posNet_cons\n",
      "    (type=<class 'pyomo.core.base.constraint.IndexedConstraint'>) on block\n",
      "    unknown with a new Component (type=<class\n",
      "    'pyomo.core.base.constraint.IndexedConstraint'>). This is usually\n",
      "    indicative of a modelling error. To avoid this warning, use\n",
      "    block.del_component() and block.add_component().\n"
     ]
    }
   ],
   "source": [
    "# calculate the net positive demand\n",
    "def E_net_rule(m,t):\n",
    "    return m.netLoad[t] == m.dayLoads[t] + m.posEtoBatt[t] + m.negEfromBatt[t]\n",
    "m.E_posNet_cons = Constraint(m.Time, rule=E_net_rule)"
   ]
  },
  {
   "cell_type": "code",
   "execution_count": null,
   "metadata": {},
   "outputs": [],
   "source": [
    "opt = SolverFactory(\"glpk\", executable=\"D:\\\\glpk-4.65\\\\w64\\\\glpsol\")"
   ]
  },
  {
   "cell_type": "code",
   "execution_count": null,
   "metadata": {},
   "outputs": [],
   "source": [
    "t = time.time()\n",
    "results = opt.solve(m)\n",
    "elapsed = time.time() - t\n",
    "print ('Time elapsed:', elapsed)"
   ]
  }
 ],
 "metadata": {
  "kernelspec": {
   "display_name": "Python 3",
   "language": "python",
   "name": "python3"
  },
  "language_info": {
   "codemirror_mode": {
    "name": "ipython",
    "version": 3
   },
   "file_extension": ".py",
   "mimetype": "text/x-python",
   "name": "python",
   "nbconvert_exporter": "python",
   "pygments_lexer": "ipython3",
   "version": "3.6.4"
  },
  "orig_nbformat": 4,
  "vscode": {
   "interpreter": {
    "hash": "5312a05d4c1062e7e99dc4a1327331a73c17135ec320657c0e8e8843948bfa85"
   }
  }
 },
 "nbformat": 4,
 "nbformat_minor": 2
}
