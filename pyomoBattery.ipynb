{
 "cells": [
  {
   "cell_type": "code",
   "execution_count": 6,
   "metadata": {},
   "outputs": [],
   "source": [
    "import pandas as pd\n",
    "import numpy as np\n",
    "import matplotlib.pyplot as plt\n",
    "from pyomo.environ import *\n",
    "from gurobipy import *"
   ]
  },
  {
   "cell_type": "code",
   "execution_count": 8,
   "metadata": {},
   "outputs": [],
   "source": [
    "df = pd.read_csv(\"Fife-data/flex_networks.csv\")\n",
    "df[\"Timestamp\"] = pd.to_datetime(df[\"Timestamp\"], infer_datetime_format=True)\n",
    "load = np.asarray(df[\"crawfordCrescent_F2\"])"
   ]
  },
  {
   "cell_type": "code",
   "execution_count": 9,
   "metadata": {},
   "outputs": [],
   "source": [
    "time = list(range(48))\n",
    "soe_time = list(range(48))\n",
    "C_rate = 8000\n",
    "soe_init = 0"
   ]
  },
  {
   "cell_type": "code",
   "execution_count": 10,
   "metadata": {},
   "outputs": [
    {
     "ename": "TypeError",
     "evalue": "__init__() takes exactly 3 positional arguments (1 given)",
     "output_type": "error",
     "traceback": [
      "\u001b[1;31m---------------------------------------------------------------------------\u001b[0m",
      "\u001b[1;31mTypeError\u001b[0m                                 Traceback (most recent call last)",
      "\u001b[1;32mc:\\SSRBS\\SSRBS\\pyomoBattery.ipynb Cell 4\u001b[0m in \u001b[0;36m<cell line: 2>\u001b[1;34m()\u001b[0m\n\u001b[0;32m      <a href='vscode-notebook-cell:/c%3A/SSRBS/SSRBS/pyomoBattery.ipynb#W2sZmlsZQ%3D%3D?line=0'>1</a>\u001b[0m m \u001b[39m=\u001b[39m ConcreteModel()\n\u001b[1;32m----> <a href='vscode-notebook-cell:/c%3A/SSRBS/SSRBS/pyomoBattery.ipynb#W2sZmlsZQ%3D%3D?line=1'>2</a>\u001b[0m m\u001b[39m.\u001b[39mcap \u001b[39m=\u001b[39m Var(domain\u001b[39m=\u001b[39;49mReals, bounds\u001b[39m=\u001b[39;49m(\u001b[39m10\u001b[39;49m,\u001b[39m1000\u001b[39;49m))\u001b[39m#battery capacity variable\u001b[39;00m\n\u001b[0;32m      <a href='vscode-notebook-cell:/c%3A/SSRBS/SSRBS/pyomoBattery.ipynb#W2sZmlsZQ%3D%3D?line=2'>3</a>\u001b[0m m\u001b[39m.\u001b[39mutility \u001b[39m=\u001b[39m Var(time,domain\u001b[39m=\u001b[39mNonNegativeReals) \u001b[39m#purchase from grid\u001b[39;00m\n\u001b[0;32m      <a href='vscode-notebook-cell:/c%3A/SSRBS/SSRBS/pyomoBattery.ipynb#W2sZmlsZQ%3D%3D?line=3'>4</a>\u001b[0m m\u001b[39m.\u001b[39mpe_c \u001b[39m=\u001b[39m Var(time,domain\u001b[39m=\u001b[39mNonNegativeReals,bounds\u001b[39m=\u001b[39m(\u001b[39m0\u001b[39m,\u001b[39m1000\u001b[39m)) \u001b[39m#charge to battery\u001b[39;00m\n",
      "File \u001b[1;32msrc\\gurobipy\\var.pxi:29\u001b[0m, in \u001b[0;36mgurobipy.Var.__init__\u001b[1;34m()\u001b[0m\n",
      "\u001b[1;31mTypeError\u001b[0m: __init__() takes exactly 3 positional arguments (1 given)"
     ]
    }
   ],
   "source": [
    "m = ConcreteModel()\n",
    "m.cap = Var(domain=Reals, bounds=(10,1000))#battery capacity variable\n",
    "m.utility = Var(time,domain=NonNegativeReals) #purchase from grid\n",
    "m.pe_c = Var(time,domain=NonNegativeReals,bounds=(0,1000)) #charge to battery\n",
    "m.pe_d = Var(time,domain=NonNegativeReals,bounds=(0,1000)) #discharge from battery\n",
    "m.SOE = Var(soe_time, domain=NonNegativeReals,bounds=(0,1000)) #state of energy inside battery\n",
    "\n",
    "def obj_expression(m):\n",
    "    return (m.cap*cost) +  sum([price[i]*(m.utility[i]) for i in time]) \n",
    "    m.OBJ = Objective(rule=obj_expression, sense=minimize) \n",
    "\n",
    "def battery_rule(m,i):  #to connect the states of the amount of energy stored at, energy discharged from, energy charged to, the battery system\n",
    "    return m.SOE[i+1] == m.SOE[i] + m.pe_c[i] - m.pe_d[i] \n",
    "    m.battery_rule = Constraint(time, rule=battery_rule)\n",
    "\n",
    "def capacity_rule(m,i):  # a physical constraint that limits the amount of energy stored in the battery system\n",
    "    return m.SOE[i] <= m.cap\n",
    "    m.capacity_rule = Constraint(time, rule=capacity_rule)\n",
    "\n",
    "def charging_rule(m,i):  # a physical constraint that limits the amount of energy charged to the battery system\n",
    "    return m.pe_c[i] <= m.cap * C_rate\n",
    "    m.charging_rule = Constraint(time, rule=charging_rule)\n",
    "\n",
    "def discharging_rule(m,i):  # a physical constraint that limits the amount of energy discharged from the battery system\n",
    "    return  m.pe_d[i] <= m.cap * C_rate\n",
    "    m.discharging_rule = Constraint(time, rule=discharging_rule)\n",
    "\n",
    "def soe_start_rule(m): \n",
    "    return m.SOE[0] == soe_init\n",
    "    m.soe_start_rule = Constraint(rule=soe_start_rule)\n",
    "\n",
    "def soe_end_rule(m):\n",
    "    return m.SOE[n] == m.SOE[0]\n",
    "    m.soe_end = Constraint(rule=soe_end_rule)\n",
    "\n",
    "def demand_rule(m,i): #a physical constraint, representing the law of conservation of energy\n",
    "    return m.pe_d[i] - m.pe_c[i]  + m.utility[i]  ==  load[i]\n",
    "    m.demand_rule = Constraint(time, rule=demand_rule)\n",
    "\n",
    "def binary_charge_constraint(m,i): #making sure it is not charging while discharging and viceversa\n",
    "    return m.pe_d[i]*m.pe_c[i]== 0\n",
    "    m.binary_charge_constraint = Constraint(time, rule=binary_charge_constraint)\n",
    "\n",
    "instance = m.create_instance()\n",
    "opt = SolverFactory(\"gurobi\")\n",
    "opt.options['NonConvex'] = 2\n",
    "results = opt.solve(instance, tee=True)"
   ]
  }
 ],
 "metadata": {
  "kernelspec": {
   "display_name": "Python 3",
   "language": "python",
   "name": "python3"
  },
  "language_info": {
   "codemirror_mode": {
    "name": "ipython",
    "version": 3
   },
   "file_extension": ".py",
   "mimetype": "text/x-python",
   "name": "python",
   "nbconvert_exporter": "python",
   "pygments_lexer": "ipython3",
   "version": "3.9.0"
  },
  "orig_nbformat": 4,
  "vscode": {
   "interpreter": {
    "hash": "b41597d6e29515954066c6dd3728c79f96e839b94db214e7637b14c7b57363e9"
   }
  }
 },
 "nbformat": 4,
 "nbformat_minor": 2
}
