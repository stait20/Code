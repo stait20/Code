{
 "cells": [
  {
   "cell_type": "code",
   "execution_count": 1,
   "metadata": {},
   "outputs": [],
   "source": [
    "import pandas as pd\n",
    "import numpy as np\n",
    "import matplotlib.pyplot as plt\n",
    "import matplotlib.dates as mdates\n",
    "import datetime\n",
    "%matplotlib inline"
   ]
  },
  {
   "cell_type": "code",
   "execution_count": 6,
   "metadata": {},
   "outputs": [],
   "source": [
    "# Read csv file, convert time to datetime data type, create persistance model\n",
    "df = pd.read_csv(\"flex_networks.csv\")\n",
    "df[\"Timestamp\"] = pd.to_datetime(df[\"Timestamp\"], infer_datetime_format=True)\n",
    "df['crawford_pers_forecast'] = df['crawfordCrescent_F2'].shift(336, axis=0)\n",
    "pers = df[\"crawford_pers_forecast\"].iloc[336:].values"
   ]
  },
  {
   "cell_type": "code",
   "execution_count": 7,
   "metadata": {},
   "outputs": [],
   "source": [
    "# Limit where battery charge will toggle\n",
    "trigger = 12\n",
    "battChargeInst = 0\n",
    "battCharge = []\n",
    "loadInst = 0\n",
    "load = []\n",
    "# diff > 0 charging, diff < 0 discharing\n",
    "diff = 12 - pers\n",
    "for i in diff:\n",
    "    if i > 0:\n",
    "        battChargeInst += i\n",
    "        battCharge.append(battChargeInst)\n",
    "        load = trigger\n",
    "        \n",
    "\n"
   ]
  }
 ],
 "metadata": {
  "kernelspec": {
   "display_name": "Python 3.6.4 64-bit",
   "language": "python",
   "name": "python3"
  },
  "language_info": {
   "codemirror_mode": {
    "name": "ipython",
    "version": 3
   },
   "file_extension": ".py",
   "mimetype": "text/x-python",
   "name": "python",
   "nbconvert_exporter": "python",
   "pygments_lexer": "ipython3",
   "version": "3.6.4"
  },
  "orig_nbformat": 4,
  "vscode": {
   "interpreter": {
    "hash": "5312a05d4c1062e7e99dc4a1327331a73c17135ec320657c0e8e8843948bfa85"
   }
  }
 },
 "nbformat": 4,
 "nbformat_minor": 2
}
