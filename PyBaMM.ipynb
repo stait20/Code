{
 "cells": [
  {
   "cell_type": "code",
   "execution_count": 6,
   "metadata": {},
   "outputs": [],
   "source": [
    "import pybamm\n",
    "import numpy as np\n",
    "import matplotlib.pyplot as plt\n",
    "\n",
    "pybamm.set_logging_level(\"NOTICE\")"
   ]
  },
  {
   "cell_type": "code",
   "execution_count": 10,
   "metadata": {},
   "outputs": [],
   "source": [
    "experiment = pybamm.Experiment([\n",
    "    (\"Discharge at 1C until 2.5V\",\n",
    "     \"Rest for 1 hour\",\n",
    "     \"Charge at 1C until 4.2V\",\n",
    "     \"Hold at 4.2V until C/50\")\n",
    "])"
   ]
  },
  {
   "cell_type": "code",
   "execution_count": 11,
   "metadata": {},
   "outputs": [
    {
     "name": "stderr",
     "output_type": "stream",
     "text": [
      "2023-02-08 13:13:32,452 - [NOTICE] simulation.solve(786): Cycle 1/1 (59.686 ms elapsed) --------------------\n",
      "2023-02-08 13:13:32,453 - [NOTICE] simulation.solve(819): Cycle 1/1, step 1/4: Discharge at 1C until 2.5V\n",
      "2023-02-08 13:13:32,604 - [NOTICE] simulation.solve(819): Cycle 1/1, step 2/4: Rest for 1 hour\n",
      "2023-02-08 13:13:32,713 - [NOTICE] simulation.solve(819): Cycle 1/1, step 3/4: Charge at 1C until 4.2V\n",
      "2023-02-08 13:13:32,855 - [NOTICE] simulation.solve(819): Cycle 1/1, step 4/4: Hold at 4.2V until C/50\n",
      "2023-02-08 13:13:33,611 - [NOTICE] simulation.solve(914): Finish experiment simulation, took 1.220 s\n"
     ]
    },
    {
     "data": {
      "application/vnd.jupyter.widget-view+json": {
       "model_id": "291f1edf329044349a27d14fb12fdbfa",
       "version_major": 2,
       "version_minor": 0
      },
      "text/plain": [
       "interactive(children=(FloatSlider(value=0.0, description='t', max=3.9118425130955243, step=0.03911842513095524…"
      ]
     },
     "metadata": {},
     "output_type": "display_data"
    },
    {
     "data": {
      "text/plain": [
       "<pybamm.plotting.quick_plot.QuickPlot at 0x296cfe2eba8>"
      ]
     },
     "execution_count": 11,
     "metadata": {},
     "output_type": "execute_result"
    }
   ],
   "source": [
    "model = pybamm.lithium_ion.SPMe()\n",
    "parameter_values = pybamm.ParameterValues(chemistry=pybamm.parameter_sets.Chen2020)\n",
    "sim = pybamm.Simulation(model, experiment=experiment, parameter_values=parameter_values)\n",
    "sim.solve()\n",
    "sim.plot([\"Terminal voltage [V]\", \"Current [A]\"])"
   ]
  }
 ],
 "metadata": {
  "kernelspec": {
   "display_name": "Python 3",
   "language": "python",
   "name": "python3"
  },
  "language_info": {
   "codemirror_mode": {
    "name": "ipython",
    "version": 3
   },
   "file_extension": ".py",
   "mimetype": "text/x-python",
   "name": "python",
   "nbconvert_exporter": "python",
   "pygments_lexer": "ipython3",
   "version": "3.6.4"
  },
  "orig_nbformat": 4,
  "vscode": {
   "interpreter": {
    "hash": "5312a05d4c1062e7e99dc4a1327331a73c17135ec320657c0e8e8843948bfa85"
   }
  }
 },
 "nbformat": 4,
 "nbformat_minor": 2
}
